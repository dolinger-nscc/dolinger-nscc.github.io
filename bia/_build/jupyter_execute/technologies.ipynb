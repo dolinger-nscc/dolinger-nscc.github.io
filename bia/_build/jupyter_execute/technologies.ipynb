{
 "cells": [
  {
   "cell_type": "markdown",
   "id": "a1d36ec8",
   "metadata": {},
   "source": [
    "# Technologies and Languages\n",
    "---\n",
    "\n",
    "Even though the importance in learning should be on the concepts and not the tools, we still need to use tools in our learning! I have picked the core tools we will be using in class based on what the industry calls for currently. Obviously, Canadian business demands are a priority in what I select for teaching and I continue to revisit the tools each year. Below is a table showing why I have chosen the tools we will be using. Technology changes frequently and there could be minor changes as next year progresses. For example, through 2020 I had been teaching a Statistical Learning course using the R programming language. Due to the increased demand for analysts to be exposed to the modules / libraries available in Python, I am now using Python this for an Intro to Data Science and an Applied Data Science.\n",
    "\n"
   ]
  },
  {
   "cell_type": "markdown",
   "id": "bd543bda",
   "metadata": {},
   "source": [
    "| Technology                             | Reason Chosen                                        |     \n",
    "| :---                                   |  ---:                                                |\n",
    "| Power Query and PowerBI                | Beginning to lead as the go-to tools for BI          |\n",
    "| MS SQL Server                          | The most used RDBMS for data warehouses              |\n",
    "| SSRS and SSIS                          | Commonly used for standard reporting and ETL         |\n",
    "| Python and DS Modules                  | More in demand than R for the past 3-4 years         |  \n"
   ]
  },
  {
   "cell_type": "markdown",
   "id": "fd16fb12",
   "metadata": {},
   "source": [
    "![Technologies](images/BIA3bg.png)  \n",
    "\n",
    "ULC, B. (n.d.). Bitmoji, Your Personal Emoji. Bitmoji. https://www.bitmoji.com/."
   ]
  }
 ],
 "metadata": {
  "kernelspec": {
   "display_name": "Python 3 (ipykernel)",
   "language": "python",
   "name": "python3"
  },
  "language_info": {
   "codemirror_mode": {
    "name": "ipython",
    "version": 3
   },
   "file_extension": ".py",
   "mimetype": "text/x-python",
   "name": "python",
   "nbconvert_exporter": "python",
   "pygments_lexer": "ipython3",
   "version": "3.9.16"
  }
 },
 "nbformat": 4,
 "nbformat_minor": 5
}