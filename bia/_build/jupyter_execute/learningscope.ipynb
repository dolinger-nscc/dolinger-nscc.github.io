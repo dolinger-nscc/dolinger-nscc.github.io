{
 "cells": [
  {
   "cell_type": "markdown",
   "id": "db47e7a1",
   "metadata": {},
   "source": [
    "# Learning Scope\n",
    "---  \n",
    "\n",
    "With a better understanding of the three pillars of data science, let's now take a deeper dive into the areas  and associated roles under the data science umbrella. This blog entry from [365 DataScience.com](https://365datascience.com/trending/data-science-vs-ml-vs-data-analytics/) does a  good job explaining the areas of data science in a matrix of technical areas across an *all time horizons* x-axis. Although the blog entry is focused on differences between common terms you will often hear mentioned, the info diagram that is created allows for a high level scope the technical classes  in the program addresses.  \n",
    "\n",
    "The red box below outlines the areas of focus required when learning Business Intelligence and Anlytics.  "
   ]
  },
  {
   "cell_type": "markdown",
   "id": "1c6448b8",
   "metadata": {},
   "source": [
    "![365 Data Science](images/365DataScience.jpg)  \n",
    "\n",
    "Valchanov, I. (2021, October 20). Data Science vs Machine Learning VS data analytics vs business analytics. 365 Data Science. Retrieved May 9, 2022, from https://365datascience.com/trending/data-science-vs-ml-vs-data-analytics/ "
   ]
  }
 ],
 "metadata": {
  "kernelspec": {
   "display_name": "Python 3 (ipykernel)",
   "language": "python",
   "name": "python3"
  },
  "language_info": {
   "codemirror_mode": {
    "name": "ipython",
    "version": 3
   },
   "file_extension": ".py",
   "mimetype": "text/x-python",
   "name": "python",
   "nbconvert_exporter": "python",
   "pygments_lexer": "ipython3",
   "version": "3.9.16"
  }
 },
 "nbformat": 4,
 "nbformat_minor": 5
}