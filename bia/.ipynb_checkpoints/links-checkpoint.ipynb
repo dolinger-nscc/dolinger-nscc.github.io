{
 "cells": [
  {
   "cell_type": "markdown",
   "id": "c076ca65",
   "metadata": {},
   "source": [
    "# Prep and Links\n",
    "---\n",
    "\n",
    "Many students ask what they should brush up on before starting a Business Intelligence and Analytics program. In a nutshell, I would recommend you make sure you are comfortable with advanced worksheet operations in Excel. This would include pivot tables, lookups (i.e. v-lookups), built-in functions, and data tables. Reviewing the statistical package in Excel as well as reviewing inferential statistics is a good idea as well for when you begin working with statistical learning models.  \n",
    "\n",
    "I would also recommend you explore an open source database like SQLite (see link below for free resources).  "
   ]
  },
  {
   "cell_type": "markdown",
   "id": "319a4a9c",
   "metadata": {},
   "source": [
    "### I will add more links as I find them:  \n",
    "--- \n",
    "\n",
    "[W3 Schools SQL](https://www.w3schools.com/sql/default.asp) - an excellent intro to the base SQL skills.  \n",
    "\n",
    "[SQLite and SQLite browser](https://sqlitebrowser.org/) - my favourite database! I taught intro to databases and had my students use this for the course, most kept their databases on a USB drive on their keychains. \n",
    "\n",
    "[OpenIntro Statistics](https://www.openintro.org/) This is a project that I feel is the future of textbooks going forward. The OpenIntro Statistics book is available free as a pdf and can be purchased for $20 Cdn on [amazon.ca](https://www.amazon.ca/OpenIntro-Statistics-Fourth-David-Diez/dp/1943450072/ref=sr_1_1?dchild=1&keywords=openintro+statistics&qid=1622044623&sr=8-1) if you like a bound copy. The labs contain both R and Python code samples. \n",
    "\n",
    "[Mathematics for Machine Learning](https://mml-book.github.io/) Working with code in SQL, Python, or R is ultimately working with mathematics. A great, and free, resource is provided thanks to Cambridge University Press.\n",
    "\n",
    "\n",
    "### LinkedIn Learning Resources:  \n",
    "--- \n",
    "\n",
    "Many public libraries and schools in Canada have an agreement with [LinkedIn Learning](https://www.linkedin.com/learning/). With Technology changing as fast as it does, traditional textbooks cannot keep up. Using videos in lieu of text reading assignments helps with the fast-changing technical landscape. You can access LinkedIn Learning free of charge with your student id from many schools, or your public library id as well. Check your local library page for availability.\n",
    "\n",
    "I access LinkedIn Learning through the [Halifax Public Libraries](https://www.halifaxpubliclibraries.ca/blogs/post/how-to-learn-with-linkedin-learning/)! Just follow the instructions on the link. If you live outside of the HRM, like I do, you can still get a Halifax Library card free of charge as long as you a resident of Nova Scotia.  \n",
    "\n",
    "\n",
    "Some courses that could help with course prep are as follows:  \n",
    "[Statistics Foundations:](https://www.linkedin.com/learning/statistics-foundations-the-basics/) The Basics - Eddie is a great instructor. This is a great 1st Statistics Course. If you enjoy this course, you can look up Eddie's 3-part course on inferential statistics.  \n",
    "\n",
    "[Excel Statistics Essential Training: 1](https://www.linkedin.com/learning/excel-statistics-essential-training-1-2/) Joseph Schmuller is a renowned author. He comes across a bit dry as an instructor, but does he ever know how to extend Excel into inferential statistics. It's worth a watch.  \n",
    "\n",
    "[Excel Statistics Training: 2](https://www.linkedin.com/learning/excel-statistics-essential-training-2-2/) If you like Joseph's part 1 of the series, here is part 2.  \n",
    "\n",
    "\n",
    "\n",
    "[Learning SQL Programming](https://www.linkedin.com/learning/learning-sql-programming-8382385/) If it were my choice, I would use this database (SQLite Browser) and this course to teach an \"Intro to Databases\" course.  "
   ]
  },
  {
   "cell_type": "code",
   "execution_count": null,
   "id": "d6df3fb4",
   "metadata": {},
   "outputs": [],
   "source": []
  }
 ],
 "metadata": {
  "kernelspec": {
   "display_name": "Python 3 (ipykernel)",
   "language": "python",
   "name": "python3"
  },
  "language_info": {
   "codemirror_mode": {
    "name": "ipython",
    "version": 3
   },
   "file_extension": ".py",
   "mimetype": "text/x-python",
   "name": "python",
   "nbconvert_exporter": "python",
   "pygments_lexer": "ipython3",
   "version": "3.9.16"
  }
 },
 "nbformat": 4,
 "nbformat_minor": 5
}
