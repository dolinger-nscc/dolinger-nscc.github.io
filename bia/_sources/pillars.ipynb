{
 "cells": [
  {
   "cell_type": "markdown",
   "id": "93c2720b",
   "metadata": {},
   "source": [
    "# Data Science Pillars\n",
    "---\n",
    "\n",
    "*\"An approximate answer to the right question is worth a great deal more than a precise answer to the wrong question.\"*  - John Tukey  \n",
    "\n",
    "Before we dive into individual learning topics, let's get comfortable with some of the **skills** that industry expects of the roles that exist under the *\"Data Science\"* umbrella. After that we can then try to make sense of where various roles and activities fit, and **how** they fit together, as well. With no industry standard naming and definitions this can often be the most daunting part of understanding the data science space.  \n",
    "\n",
    " If you Google \"data science three pillars\" or \"data science Venn diagram\" you will be presented with a variety of similar visualizations to the ones below. I picked these two as I feel they give a realistic representation of the three skill areas employers are looking for in an analysts. The experience levels they look for do not change the tenants themselves just how must experience and training you have each of the three areas.   \n",
    " \n",
    " This first diagram is from an *Institute of Mathematical Statistics* posting from 2014. I invite you to [read the article](https://imstat.org/2014/10/01/ims-presidential-address-let-us-own-data-science/) as it does help to frame what BI, statistics, data science, etc mean in the real world.  "
   ]
  },
  {
   "cell_type": "markdown",
   "id": "006e02e6",
   "metadata": {},
   "source": [
    "```{figure} ./images/Bin-Yu-figure1-original.png\n",
    "---\n",
    "align: center\n",
    "---\n",
    "Data Science Simplified Diagram\n",
    "```"
   ]
  },
  {
   "cell_type": "markdown",
   "id": "ab09d070",
   "metadata": {},
   "source": [
    "This second diagram by Geringer facetiously includes *Unicorn* in the intersection of the visualization and also includes where the \"technologies or tools\" fit within the diagram. Note the *Machine Learning*, *Traditional Research*, and *Traditional Software* entries.  We will explore the technologies deeper in the next section, *Class Scope and Alignment*.\n",
    "\n",
    "```{figure} ./images/Data-science-as-convergence-between-computer-science-math-statistics-and-domain.jpg\n",
    "---\n",
    "align: center\n",
    "---\n",
    "Data Science Diagram\n",
    "```"
   ]
  },
  {
   "cell_type": "markdown",
   "id": "1e766edf",
   "metadata": {},
   "source": [
    "Yu, B. (2014, October 1). Institute of Mathematical Statistics: IMS Presidential Address: Let Us Own Data Science. Institute of Mathematical Statistics IMS Presidential Address Let us own Data Science Comments. Retrieved May 9, 2022, from https://imstat.org/2014/10/01/ims-presidential-address-let-us-own-data-science/   \n",
    "  \n",
    "Armengaud, Eric & Sams, Christoph & von Falck, Georg & List, Georg & Kreiner, Christian & Riel, Andreas. (2017). Industry 4.0 as Digitalization over the Entire Product Lifecycle: Opportunities in the Automotive Domain. "
   ]
  }
 ],
 "metadata": {
  "kernelspec": {
   "display_name": "Python 3 (ipykernel)",
   "language": "python",
   "name": "python3"
  },
  "language_info": {
   "codemirror_mode": {
    "name": "ipython",
    "version": 3
   },
   "file_extension": ".py",
   "mimetype": "text/x-python",
   "name": "python",
   "nbconvert_exporter": "python",
   "pygments_lexer": "ipython3",
   "version": "3.9.16"
  }
 },
 "nbformat": 4,
 "nbformat_minor": 5
}
