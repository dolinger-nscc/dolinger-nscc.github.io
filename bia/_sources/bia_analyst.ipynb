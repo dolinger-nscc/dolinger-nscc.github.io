{
 "cells": [
  {
   "cell_type": "markdown",
   "id": "0572a1fa",
   "metadata": {},
   "source": [
    "# Becoming a Business Intelligence Analyst\n",
    "---\n",
    "\n",
    "> *I am often asked why Business Intelligence listing on job sites require a minimum of 2-5 years of experience.*  \n",
    "\n",
    "The reason why you see an experience requirement for Business Intelligence Analyst roles is the role itself is not an entry level position. As you may have noted in the Learning Scope and Alignment section there is an expectation of the analyst to possess a broad skill-set.  \n",
    "\n",
    "This desired skill-set spans general business knowledge as well as domain specific knowledge depending on the organization which employs the analyst. The analyst also needs a solid understanding of information technology and be able to program in languages such as SQL, Python, R, etc. Finally, the analyst is expected to have strong statistical, mathematics, and problem solving skills.  \n",
    "\n",
    "Discover Data Science has a good career guide on [\"How to Become a Business Intelligence Analyst - A Complete Career Guide\"](https://www.discoverdatascience.org/career-information/business-intelligence-analyst/#:~:text=Once%20you%20have%20developed%20the,8%20years%20of%20work%20experience.).  \n",
    "\n",
    "\n"
   ]
  },
  {
   "cell_type": "markdown",
   "id": "0e14c74c",
   "metadata": {},
   "source": [
    "\n",
    "Become a business intelligence analyst: Career and salary information. DiscoverDataScience.org. (2023, February 10). https://www.discoverdatascience.org/career-information/business-intelligence-analyst/#:~:text=Once%20you%20have%20developed%20the,8%20years%20of%20work%20experience.  "
   ]
  }
 ],
 "metadata": {
  "kernelspec": {
   "display_name": "Python 3 (ipykernel)",
   "language": "python",
   "name": "python3"
  },
  "language_info": {
   "codemirror_mode": {
    "name": "ipython",
    "version": 3
   },
   "file_extension": ".py",
   "mimetype": "text/x-python",
   "name": "python",
   "nbconvert_exporter": "python",
   "pygments_lexer": "ipython3",
   "version": "3.9.16"
  }
 },
 "nbformat": 4,
 "nbformat_minor": 5
}
