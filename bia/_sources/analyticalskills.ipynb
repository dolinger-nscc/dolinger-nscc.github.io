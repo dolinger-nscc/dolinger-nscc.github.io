{
 "cells": [
  {
   "cell_type": "markdown",
   "id": "51e1b590",
   "metadata": {},
   "source": [
    "# Analytical Skills\n",
    "---\n",
    "\n",
    "Although most new learners are excited about the tools we use in Business Intelligence and Analytics it is important to understand it's the skills that make the analyst valuable. This is often overlooked in career preparation, project planning, even in job postings! I don't know how many times I have been told, \"we need another Data Stage ETL person; or, we need another Siebel report author\". Most often in these cases what was needed was somebody who could transpose data into information. The chosen tool didn't matter, and mastering a tool does not ensure a person can understand the needs of the business and provide the information needed to guide decision making.  \n",
    "\n",
    "\n",
    "**Note** - yes, I did pick two technologies in the example above that are now basically obsolete to illustrate how fast tools change in this industry, but the concepts and skills do not.  \n",
    "\n",
    "I came across a great post by Chris Dutton on LinkedIn that I agree with completely. I know my students have heard this from me a lot in class, but it helps that the message is \"getting out there\". "
   ]
  },
  {
   "cell_type": "markdown",
   "id": "0161ddff",
   "metadata": {},
   "source": [
    "<iframe src=\"https://www.linkedin.com/embed/feed/update/urn:li:share:6792071729318522881\" height=\"1353\" width=\"504\" frameborder=\"0\" allowfullscreen=\"\" title=\"Embedded post\"></iframe>"
   ]
  }
 ],
 "metadata": {
  "kernelspec": {
   "display_name": "Python 3 (ipykernel)",
   "language": "python",
   "name": "python3"
  },
  "language_info": {
   "codemirror_mode": {
    "name": "ipython",
    "version": 3
   },
   "file_extension": ".py",
   "mimetype": "text/x-python",
   "name": "python",
   "nbconvert_exporter": "python",
   "pygments_lexer": "ipython3",
   "version": "3.9.16"
  }
 },
 "nbformat": 4,
 "nbformat_minor": 5
}
