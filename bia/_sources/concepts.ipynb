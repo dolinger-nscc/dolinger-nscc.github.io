{
 "cells": [
  {
   "cell_type": "markdown",
   "id": "e96452ca",
   "metadata": {},
   "source": [
    "# Business Intelligence and Analytics Concepts\n",
    "---\n",
    "\n",
    "Now that we understand the differences between Business Intelligence and Analytics, let's look at the concepts we will cover that apply across the all-time horizons. The industry is flooded with vendors and tools that perform the same operations and functions on the data. Just like there are many automobile manufactures, they are as many (or possibly more) software vendors in the Business Intelligence and Analytics space. My best advice to anyone new to the technical world is my same advice to any new aspiring analyst.  \n",
    "\n",
    "> *Learn one tool especially well for each thing you are attempting to accomplish. Focus on the concepts and not the tools. Once you have a firm understanding of the concepts, you can pick up any toolset in short order.*"
   ]
  },
  {
   "cell_type": "markdown",
   "id": "347f12f3",
   "metadata": {},
   "source": [
    "![Concepts](images/BIA2bg.png)  \n",
    "\n",
    "ULC, B. (n.d.). Bitmoji, Your Personal Emoji. Bitmoji. https://www.bitmoji.com/."
   ]
  }
 ],
 "metadata": {
  "kernelspec": {
   "display_name": "Python 3 (ipykernel)",
   "language": "python",
   "name": "python3"
  },
  "language_info": {
   "codemirror_mode": {
    "name": "ipython",
    "version": 3
   },
   "file_extension": ".py",
   "mimetype": "text/x-python",
   "name": "python",
   "nbconvert_exporter": "python",
   "pygments_lexer": "ipython3",
   "version": "3.9.16"
  }
 },
 "nbformat": 4,
 "nbformat_minor": 5
}
