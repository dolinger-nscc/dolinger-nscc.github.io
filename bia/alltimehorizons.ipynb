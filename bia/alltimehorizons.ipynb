{
 "cells": [
  {
   "cell_type": "markdown",
   "id": "369d9a69",
   "metadata": {},
   "source": [
    "# What is Business Intelligence and Analytics?\n",
    "---"
   ]
  },
  {
   "cell_type": "markdown",
   "id": "705a3605",
   "metadata": {},
   "source": [
    "![All Time Horizons](images/BIA1bg.png)  "
   ]
  },
  {
   "cell_type": "markdown",
   "id": "82caa7f0",
   "metadata": {},
   "source": [
    "Business Intelligence *and* Analytics are actually two seperate disciplines and there is a vast temporal range between the two. I like to refer to this as \"All-Time Horizons\". That said, both BI and Analytics use dat and are about data! We just work with the data using different strategies, tools, and objectives often with the same datasets. The difference is really what we are looking for in the data and what we want to do with the data.  \n",
    "\n",
    "If we are looking at historical data, this is Business Intelligence (BI), sometimes you will also hear this called data mining. We are primarily identifying dimensionality and trends in the data. If we are looking at monitoring and measuring how we are doing today (in the present) that is also BI. We deliver this information through dashboards, scorecards, and reports.  \n",
    "\n",
    "Data Analytics is where we forecast and / or predict outcomes. That is why it is considered a \"future\" operation on the data.  \n",
    "\n",
    "In the diagram above, you will note the red box represents what we are calling Business Intelligence or BI for short.  \n",
    "\n",
    "ULC, B. (n.d.). Bitmoji, Your Personal Emoji. Bitmoji. https://www.bitmoji.com/."
   ]
  }
 ],
 "metadata": {
  "kernelspec": {
   "display_name": "Python 3 (ipykernel)",
   "language": "python",
   "name": "python3"
  },
  "language_info": {
   "codemirror_mode": {
    "name": "ipython",
    "version": 3
   },
   "file_extension": ".py",
   "mimetype": "text/x-python",
   "name": "python",
   "nbconvert_exporter": "python",
   "pygments_lexer": "ipython3",
   "version": "3.9.16"
  }
 },
 "nbformat": 4,
 "nbformat_minor": 5
}
